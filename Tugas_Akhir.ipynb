{
  "nbformat": 4,
  "nbformat_minor": 0,
  "metadata": {
    "colab": {
      "name": "Tugas Akhir 4.ipynb",
      "provenance": [],
      "collapsed_sections": [],
      "include_colab_link": true
    },
    "kernelspec": {
      "display_name": "Python 3",
      "name": "python3"
    },
    "language_info": {
      "name": "python"
    }
  },
  "cells": [
    {
      "cell_type": "markdown",
      "metadata": {
        "id": "view-in-github",
        "colab_type": "text"
      },
      "source": [
        "<a href=\"https://colab.research.google.com/github/samsoxu/Spada/blob/main/Tugas_Akhir.ipynb\" target=\"_parent\"><img src=\"https://colab.research.google.com/assets/colab-badge.svg\" alt=\"Open In Colab\"/></a>"
      ]
    },
    {
      "cell_type": "code",
      "metadata": {
        "id": "J_z5-J4yIpTn",
        "colab": {
          "base_uri": "https://localhost:8080/"
        },
        "outputId": "5a92749c-1e07-409f-aa28-10487b4f51ab"
      },
      "source": [
        "!pip install yfinance"
      ],
      "execution_count": null,
      "outputs": [
        {
          "output_type": "stream",
          "name": "stdout",
          "text": [
            "Requirement already satisfied: yfinance in /usr/local/lib/python3.7/dist-packages (0.1.67)\n",
            "Requirement already satisfied: lxml>=4.5.1 in /usr/local/lib/python3.7/dist-packages (from yfinance) (4.6.4)\n",
            "Requirement already satisfied: multitasking>=0.0.7 in /usr/local/lib/python3.7/dist-packages (from yfinance) (0.0.10)\n",
            "Requirement already satisfied: requests>=2.20 in /usr/local/lib/python3.7/dist-packages (from yfinance) (2.23.0)\n",
            "Requirement already satisfied: pandas>=0.24 in /usr/local/lib/python3.7/dist-packages (from yfinance) (1.1.5)\n",
            "Requirement already satisfied: numpy>=1.15 in /usr/local/lib/python3.7/dist-packages (from yfinance) (1.19.5)\n",
            "Requirement already satisfied: pytz>=2017.2 in /usr/local/lib/python3.7/dist-packages (from pandas>=0.24->yfinance) (2018.9)\n",
            "Requirement already satisfied: python-dateutil>=2.7.3 in /usr/local/lib/python3.7/dist-packages (from pandas>=0.24->yfinance) (2.8.2)\n",
            "Requirement already satisfied: six>=1.5 in /usr/local/lib/python3.7/dist-packages (from python-dateutil>=2.7.3->pandas>=0.24->yfinance) (1.15.0)\n",
            "Requirement already satisfied: certifi>=2017.4.17 in /usr/local/lib/python3.7/dist-packages (from requests>=2.20->yfinance) (2021.10.8)\n",
            "Requirement already satisfied: idna<3,>=2.5 in /usr/local/lib/python3.7/dist-packages (from requests>=2.20->yfinance) (2.10)\n",
            "Requirement already satisfied: chardet<4,>=3.0.2 in /usr/local/lib/python3.7/dist-packages (from requests>=2.20->yfinance) (3.0.4)\n",
            "Requirement already satisfied: urllib3!=1.25.0,!=1.25.1,<1.26,>=1.21.1 in /usr/local/lib/python3.7/dist-packages (from requests>=2.20->yfinance) (1.24.3)\n"
          ]
        }
      ]
    },
    {
      "cell_type": "code",
      "metadata": {
        "id": "6zmDSMWGCJwE"
      },
      "source": [
        "import math\n",
        "import yfinance as yf\n",
        "import pandas_datareader as data\n",
        "import numpy as np\n",
        "import pandas as pd\n",
        "from sklearn.preprocessing import MinMaxScaler\n",
        "from keras.models import Sequential\n",
        "from keras.layers import Dense, LSTM\n",
        "import matplotlib.pyplot as plt\n",
        "plt.style.use('fivethirtyeight')\n",
        "\n",
        "%matplotlib inline"
      ],
      "execution_count": null,
      "outputs": []
    },
    {
      "cell_type": "code",
      "metadata": {
        "colab": {
          "base_uri": "https://localhost:8080/",
          "height": 272
        },
        "id": "Dn1sNo41KcnZ",
        "outputId": "cf481128-8b5f-4cf4-c317-50ca5e1dcf0b"
      },
      "source": [
        "#Mengunduh data yaitu data harga saham perusahan Pt.Bank Central Asia Tbk\n",
        "df = yf.download(\"BBCA.JK\", start=\"2018-01-01\", end=\"2021-12-01\")\n",
        "df2 = yf.download(\"BBCA.JK\", start=\"2021-11-30\", end=\"2021-12-01\")\n",
        "df.tail()"
      ],
      "execution_count": null,
      "outputs": [
        {
          "output_type": "stream",
          "name": "stdout",
          "text": [
            "[*********************100%***********************]  1 of 1 completed\n",
            "[*********************100%***********************]  1 of 1 completed\n"
          ]
        },
        {
          "output_type": "execute_result",
          "data": {
            "text/html": [
              "<div>\n",
              "<style scoped>\n",
              "    .dataframe tbody tr th:only-of-type {\n",
              "        vertical-align: middle;\n",
              "    }\n",
              "\n",
              "    .dataframe tbody tr th {\n",
              "        vertical-align: top;\n",
              "    }\n",
              "\n",
              "    .dataframe thead th {\n",
              "        text-align: right;\n",
              "    }\n",
              "</style>\n",
              "<table border=\"1\" class=\"dataframe\">\n",
              "  <thead>\n",
              "    <tr style=\"text-align: right;\">\n",
              "      <th></th>\n",
              "      <th>Open</th>\n",
              "      <th>High</th>\n",
              "      <th>Low</th>\n",
              "      <th>Close</th>\n",
              "      <th>Adj Close</th>\n",
              "      <th>Volume</th>\n",
              "    </tr>\n",
              "    <tr>\n",
              "      <th>Date</th>\n",
              "      <th></th>\n",
              "      <th></th>\n",
              "      <th></th>\n",
              "      <th></th>\n",
              "      <th></th>\n",
              "      <th></th>\n",
              "    </tr>\n",
              "  </thead>\n",
              "  <tbody>\n",
              "    <tr>\n",
              "      <th>2021-11-24</th>\n",
              "      <td>7575.0</td>\n",
              "      <td>7575.0</td>\n",
              "      <td>7425.0</td>\n",
              "      <td>7475.0</td>\n",
              "      <td>7475.0</td>\n",
              "      <td>35181400.0</td>\n",
              "    </tr>\n",
              "    <tr>\n",
              "      <th>2021-11-25</th>\n",
              "      <td>7450.0</td>\n",
              "      <td>7525.0</td>\n",
              "      <td>7425.0</td>\n",
              "      <td>7425.0</td>\n",
              "      <td>7425.0</td>\n",
              "      <td>40216100.0</td>\n",
              "    </tr>\n",
              "    <tr>\n",
              "      <th>2021-11-26</th>\n",
              "      <td>7400.0</td>\n",
              "      <td>7450.0</td>\n",
              "      <td>7250.0</td>\n",
              "      <td>7275.0</td>\n",
              "      <td>7275.0</td>\n",
              "      <td>113288400.0</td>\n",
              "    </tr>\n",
              "    <tr>\n",
              "      <th>2021-11-29</th>\n",
              "      <td>7275.0</td>\n",
              "      <td>7425.0</td>\n",
              "      <td>7175.0</td>\n",
              "      <td>7400.0</td>\n",
              "      <td>7400.0</td>\n",
              "      <td>87907900.0</td>\n",
              "    </tr>\n",
              "    <tr>\n",
              "      <th>2021-11-30</th>\n",
              "      <td>7325.0</td>\n",
              "      <td>7425.0</td>\n",
              "      <td>7275.0</td>\n",
              "      <td>7275.0</td>\n",
              "      <td>7275.0</td>\n",
              "      <td>144923700.0</td>\n",
              "    </tr>\n",
              "  </tbody>\n",
              "</table>\n",
              "</div>"
            ],
            "text/plain": [
              "              Open    High     Low   Close  Adj Close       Volume\n",
              "Date                                                              \n",
              "2021-11-24  7575.0  7575.0  7425.0  7475.0     7475.0   35181400.0\n",
              "2021-11-25  7450.0  7525.0  7425.0  7425.0     7425.0   40216100.0\n",
              "2021-11-26  7400.0  7450.0  7250.0  7275.0     7275.0  113288400.0\n",
              "2021-11-29  7275.0  7425.0  7175.0  7400.0     7400.0   87907900.0\n",
              "2021-11-30  7325.0  7425.0  7275.0  7275.0     7275.0  144923700.0"
            ]
          },
          "metadata": {},
          "execution_count": 3
        }
      ]
    },
    {
      "cell_type": "code",
      "metadata": {
        "colab": {
          "base_uri": "https://localhost:8080/",
          "height": 112
        },
        "id": "y2vghAi8X3J8",
        "outputId": "d203aa8c-6043-4dd1-a0ce-bd10685b4a3b"
      },
      "source": [
        "is_NaN = df.isnull()\n",
        "row_has_NaN = is_NaN.any(axis=1)\n",
        "rows_with_NaN = df[row_has_NaN]\n",
        "\n",
        "rows_with_NaN"
      ],
      "execution_count": null,
      "outputs": [
        {
          "output_type": "execute_result",
          "data": {
            "text/html": [
              "<div>\n",
              "<style scoped>\n",
              "    .dataframe tbody tr th:only-of-type {\n",
              "        vertical-align: middle;\n",
              "    }\n",
              "\n",
              "    .dataframe tbody tr th {\n",
              "        vertical-align: top;\n",
              "    }\n",
              "\n",
              "    .dataframe thead th {\n",
              "        text-align: right;\n",
              "    }\n",
              "</style>\n",
              "<table border=\"1\" class=\"dataframe\">\n",
              "  <thead>\n",
              "    <tr style=\"text-align: right;\">\n",
              "      <th></th>\n",
              "      <th>Open</th>\n",
              "      <th>High</th>\n",
              "      <th>Low</th>\n",
              "      <th>Close</th>\n",
              "      <th>Adj Close</th>\n",
              "      <th>Volume</th>\n",
              "    </tr>\n",
              "    <tr>\n",
              "      <th>Date</th>\n",
              "      <th></th>\n",
              "      <th></th>\n",
              "      <th></th>\n",
              "      <th></th>\n",
              "      <th></th>\n",
              "      <th></th>\n",
              "    </tr>\n",
              "  </thead>\n",
              "  <tbody>\n",
              "    <tr>\n",
              "      <th>2020-12-09</th>\n",
              "      <td>NaN</td>\n",
              "      <td>NaN</td>\n",
              "      <td>NaN</td>\n",
              "      <td>NaN</td>\n",
              "      <td>NaN</td>\n",
              "      <td>NaN</td>\n",
              "    </tr>\n",
              "  </tbody>\n",
              "</table>\n",
              "</div>"
            ],
            "text/plain": [
              "            Open  High  Low  Close  Adj Close  Volume\n",
              "Date                                                 \n",
              "2020-12-09   NaN   NaN  NaN    NaN        NaN     NaN"
            ]
          },
          "metadata": {},
          "execution_count": 4
        }
      ]
    },
    {
      "cell_type": "code",
      "metadata": {
        "id": "XQpgtUHJYbSr"
      },
      "source": [
        "df.dropna(inplace=True)"
      ],
      "execution_count": null,
      "outputs": []
    },
    {
      "cell_type": "code",
      "metadata": {
        "colab": {
          "base_uri": "https://localhost:8080/",
          "height": 455
        },
        "id": "yo9IbXnoXyc8",
        "outputId": "2e6cf136-45c6-4dc5-fe5f-77c33295cb59"
      },
      "source": [
        "df.astype(int)"
      ],
      "execution_count": null,
      "outputs": [
        {
          "output_type": "execute_result",
          "data": {
            "text/html": [
              "<div>\n",
              "<style scoped>\n",
              "    .dataframe tbody tr th:only-of-type {\n",
              "        vertical-align: middle;\n",
              "    }\n",
              "\n",
              "    .dataframe tbody tr th {\n",
              "        vertical-align: top;\n",
              "    }\n",
              "\n",
              "    .dataframe thead th {\n",
              "        text-align: right;\n",
              "    }\n",
              "</style>\n",
              "<table border=\"1\" class=\"dataframe\">\n",
              "  <thead>\n",
              "    <tr style=\"text-align: right;\">\n",
              "      <th></th>\n",
              "      <th>Open</th>\n",
              "      <th>High</th>\n",
              "      <th>Low</th>\n",
              "      <th>Close</th>\n",
              "      <th>Adj Close</th>\n",
              "      <th>Volume</th>\n",
              "    </tr>\n",
              "    <tr>\n",
              "      <th>Date</th>\n",
              "      <th></th>\n",
              "      <th></th>\n",
              "      <th></th>\n",
              "      <th></th>\n",
              "      <th></th>\n",
              "      <th></th>\n",
              "    </tr>\n",
              "  </thead>\n",
              "  <tbody>\n",
              "    <tr>\n",
              "      <th>2018-01-01</th>\n",
              "      <td>4380</td>\n",
              "      <td>4380</td>\n",
              "      <td>4380</td>\n",
              "      <td>4380</td>\n",
              "      <td>4122</td>\n",
              "      <td>0</td>\n",
              "    </tr>\n",
              "    <tr>\n",
              "      <th>2018-01-02</th>\n",
              "      <td>4380</td>\n",
              "      <td>4505</td>\n",
              "      <td>4365</td>\n",
              "      <td>4380</td>\n",
              "      <td>4122</td>\n",
              "      <td>82303500</td>\n",
              "    </tr>\n",
              "    <tr>\n",
              "      <th>2018-01-03</th>\n",
              "      <td>4385</td>\n",
              "      <td>4390</td>\n",
              "      <td>4265</td>\n",
              "      <td>4380</td>\n",
              "      <td>4122</td>\n",
              "      <td>68214000</td>\n",
              "    </tr>\n",
              "    <tr>\n",
              "      <th>2018-01-04</th>\n",
              "      <td>4380</td>\n",
              "      <td>4445</td>\n",
              "      <td>4380</td>\n",
              "      <td>4445</td>\n",
              "      <td>4183</td>\n",
              "      <td>76567000</td>\n",
              "    </tr>\n",
              "    <tr>\n",
              "      <th>2018-01-05</th>\n",
              "      <td>4460</td>\n",
              "      <td>4480</td>\n",
              "      <td>4435</td>\n",
              "      <td>4450</td>\n",
              "      <td>4188</td>\n",
              "      <td>65268000</td>\n",
              "    </tr>\n",
              "    <tr>\n",
              "      <th>...</th>\n",
              "      <td>...</td>\n",
              "      <td>...</td>\n",
              "      <td>...</td>\n",
              "      <td>...</td>\n",
              "      <td>...</td>\n",
              "      <td>...</td>\n",
              "    </tr>\n",
              "    <tr>\n",
              "      <th>2021-11-24</th>\n",
              "      <td>7575</td>\n",
              "      <td>7575</td>\n",
              "      <td>7425</td>\n",
              "      <td>7475</td>\n",
              "      <td>7475</td>\n",
              "      <td>35181400</td>\n",
              "    </tr>\n",
              "    <tr>\n",
              "      <th>2021-11-25</th>\n",
              "      <td>7450</td>\n",
              "      <td>7525</td>\n",
              "      <td>7425</td>\n",
              "      <td>7425</td>\n",
              "      <td>7425</td>\n",
              "      <td>40216100</td>\n",
              "    </tr>\n",
              "    <tr>\n",
              "      <th>2021-11-26</th>\n",
              "      <td>7400</td>\n",
              "      <td>7450</td>\n",
              "      <td>7250</td>\n",
              "      <td>7275</td>\n",
              "      <td>7275</td>\n",
              "      <td>113288400</td>\n",
              "    </tr>\n",
              "    <tr>\n",
              "      <th>2021-11-29</th>\n",
              "      <td>7275</td>\n",
              "      <td>7425</td>\n",
              "      <td>7175</td>\n",
              "      <td>7400</td>\n",
              "      <td>7400</td>\n",
              "      <td>87907900</td>\n",
              "    </tr>\n",
              "    <tr>\n",
              "      <th>2021-11-30</th>\n",
              "      <td>7325</td>\n",
              "      <td>7425</td>\n",
              "      <td>7275</td>\n",
              "      <td>7275</td>\n",
              "      <td>7275</td>\n",
              "      <td>144923700</td>\n",
              "    </tr>\n",
              "  </tbody>\n",
              "</table>\n",
              "<p>986 rows × 6 columns</p>\n",
              "</div>"
            ],
            "text/plain": [
              "            Open  High   Low  Close  Adj Close     Volume\n",
              "Date                                                     \n",
              "2018-01-01  4380  4380  4380   4380       4122          0\n",
              "2018-01-02  4380  4505  4365   4380       4122   82303500\n",
              "2018-01-03  4385  4390  4265   4380       4122   68214000\n",
              "2018-01-04  4380  4445  4380   4445       4183   76567000\n",
              "2018-01-05  4460  4480  4435   4450       4188   65268000\n",
              "...          ...   ...   ...    ...        ...        ...\n",
              "2021-11-24  7575  7575  7425   7475       7475   35181400\n",
              "2021-11-25  7450  7525  7425   7425       7425   40216100\n",
              "2021-11-26  7400  7450  7250   7275       7275  113288400\n",
              "2021-11-29  7275  7425  7175   7400       7400   87907900\n",
              "2021-11-30  7325  7425  7275   7275       7275  144923700\n",
              "\n",
              "[986 rows x 6 columns]"
            ]
          },
          "metadata": {},
          "execution_count": 6
        }
      ]
    },
    {
      "cell_type": "code",
      "metadata": {
        "colab": {
          "base_uri": "https://localhost:8080/"
        },
        "id": "4Q13yILHN4Ek",
        "outputId": "0bd999ea-f002-4802-de1f-17c529d50012"
      },
      "source": [
        "df.shape"
      ],
      "execution_count": null,
      "outputs": [
        {
          "output_type": "execute_result",
          "data": {
            "text/plain": [
              "(986, 6)"
            ]
          },
          "metadata": {},
          "execution_count": 7
        }
      ]
    },
    {
      "cell_type": "code",
      "metadata": {
        "colab": {
          "base_uri": "https://localhost:8080/",
          "height": 573
        },
        "id": "kClpxMqCN8-l",
        "outputId": "dd6fdd82-0c9c-4012-9b88-b0a70f5ee76d"
      },
      "source": [
        "#Menampilkan data harga \"Close\" saham BBCA\n",
        "plt.figure(figsize=(16,9))\n",
        "plt.title('Harga Close Sahamn PT Bank Central Asia Tbk')\n",
        "plt.plot(df['Adj Close'])\n",
        "plt.xlabel('Tanggal', fontsize=18)\n",
        "plt.ylabel('Harga (Rp.)', fontsize=18)\n",
        "plt.show()"
      ],
      "execution_count": null,
      "outputs": [
        {
          "output_type": "display_data",
          "data": {
            "image/png": "[encoded data removed]",
            "text/plain": [
              "<Figure size 1152x648 with 1 Axes>"
            ]
          },
          "metadata": {
            "needs_background": "light"
          }
        }
      ]
    },
    {
      "cell_type": "code",
      "metadata": {
        "id": "mk-ds57LO8xj"
      },
      "source": [
        "#Mengambil data \"Close\" saja dari data frame sebelumnya.\n",
        "\n",
        "data = df.filter(['Adj Close']) #menggunakan df.filter agar mendapatkan kolom Date (sebagai index) dan kolom Adj Close yang ingin dituju\n",
        "dataset = data.values"
      ],
      "execution_count": null,
      "outputs": []
    },
    {
      "cell_type": "code",
      "metadata": {
        "id": "fuXi5VvkPymg"
      },
      "source": [
        "#Melakukan normalisasi data\n",
        "scaler = MinMaxScaler(feature_range=(0,1))\n",
        "scaled_data = scaler.fit_transform(dataset)"
      ],
      "execution_count": null,
      "outputs": []
    },
    {
      "cell_type": "code",
      "metadata": {
        "colab": {
          "base_uri": "https://localhost:8080/"
        },
        "id": "-fGp6ItRSXOl",
        "outputId": "8bd8ec59-12db-4787-f873-b799405e1d50"
      },
      "source": [
        "#Melakukan split data unutk dataa Train dan data Valid (Test) dengan perbandingan Trains:Valid adalah 8:2\n",
        "training_data_len = math.ceil(len(dataset) * .8)\n",
        "train = data[:training_data_len]\n",
        "valid = data[training_data_len:]\n",
        "training_data_len"
      ],
      "execution_count": null,
      "outputs": [
        {
          "output_type": "execute_result",
          "data": {
            "text/plain": [
              "789"
            ]
          },
          "metadata": {},
          "execution_count": 11
        }
      ]
    },
    {
      "cell_type": "code",
      "metadata": {
        "id": "gr4Xr9IpQQ15"
      },
      "source": [
        "#Memisahkan data yang telah di normalisasi dengan panjang yang telah diputuskan sebelumnya kedalam variabel train_data\n",
        "train_data = scaled_data[0:training_data_len]\n",
        "x_train = []\n",
        "y_train = []\n",
        "\n",
        "#Melakukan pemisahan data untuk X train dan y train sehingga dapat dimasukkan kedalam model\n",
        "for i in range(60, len(train_data)):\n",
        "  x_train.append(train_data[i-60:i, 0])\n",
        "  y_train.append(train_data[i, 0])"
      ],
      "execution_count": null,
      "outputs": []
    },
    {
      "cell_type": "code",
      "metadata": {
        "id": "e_rO30_rRwyw"
      },
      "source": [
        "#Mengubah dataframe menjadi numpy array agar dapat masuk kedalam model keras\n",
        "x_train, y_train = np.array(x_train), np.array(y_train)"
      ],
      "execution_count": null,
      "outputs": []
    },
    {
      "cell_type": "code",
      "metadata": {
        "id": "bUqtKTEBSLKV",
        "colab": {
          "base_uri": "https://localhost:8080/"
        },
        "outputId": "e508c846-98f5-46e2-e426-5adda9119325"
      },
      "source": [
        "#Karena model LSTM keras membutuhkan array 3 Dimensi untuk itu melakukan reshape data.\n",
        "x_train = np.reshape(x_train, (x_train.shape[0], x_train.shape[1], 1))\n",
        "x_train.shape"
      ],
      "execution_count": null,
      "outputs": [
        {
          "output_type": "execute_result",
          "data": {
            "text/plain": [
              "(729, 60, 1)"
            ]
          },
          "metadata": {},
          "execution_count": 14
        }
      ]
    },
    {
      "cell_type": "code",
      "metadata": {
        "id": "J1XV3cdQThCo"
      },
      "source": [
        "#Membuat layer yang dibutuhkan dalam metode pembelajaran mesin\n",
        "model = Sequential()\n",
        "model.add(LSTM(50, return_sequences=True, stateful=False, go_backwards=True, input_shape = (x_train.shape[1], 1)))\n",
        "model.add(LSTM(50, return_sequences=False, go_backwards=True, stateful=False))\n",
        "model.add(Dense(25))\n",
        "model.add(Dense(1))"
      ],
      "execution_count": null,
      "outputs": []
    },
    {
      "cell_type": "code",
      "metadata": {
        "id": "X8TfNszjUItj"
      },
      "source": [
        "#Menambahkan 'AdamW' optimizer dan perhitungan error menggunakan \"MSE\"\n",
        "model.compile(optimizer='adam', loss='mean_squared_error')"
      ],
      "execution_count": null,
      "outputs": []
    },
    {
      "cell_type": "code",
      "metadata": {
        "id": "JONPsAEgUTMq",
        "colab": {
          "base_uri": "https://localhost:8080/"
        },
        "outputId": "711438bb-2667-4fb0-eea5-79441c05c54b"
      },
      "source": [
        "#Menjalankan model yang telah dipersiapkan sebelumnya\n",
        "model.fit(x_train, y_train, batch_size=64, epochs=100)"
      ],
      "execution_count": null,
      "outputs": [
        {
          "output_type": "stream",
          "name": "stdout",
          "text": [
            "Epoch 1/100\n",
            "12/12 [==============================] - 1s 64ms/step - loss: 6.9222e-04\n",
            "Epoch 2/100\n",
            "12/12 [==============================] - 1s 73ms/step - loss: 6.7430e-04\n",
            "Epoch 3/100\n",
            "12/12 [==============================] - 1s 72ms/step - loss: 6.7265e-04\n",
            "Epoch 4/100\n",
            "12/12 [==============================] - 1s 73ms/step - loss: 6.9652e-04\n",
            "Epoch 5/100\n",
            "12/12 [==============================] - 1s 73ms/step - loss: 6.5214e-04\n",
            "Epoch 6/100\n",
            "12/12 [==============================] - 1s 74ms/step - loss: 6.5864e-04\n",
            "Epoch 7/100\n",
            "12/12 [==============================] - 1s 73ms/step - loss: 6.7417e-04\n",
            "Epoch 8/100\n",
            "12/12 [==============================] - 1s 73ms/step - loss: 6.8181e-04\n",
            "Epoch 9/100\n",
            "12/12 [==============================] - 1s 74ms/step - loss: 6.7198e-04\n",
            "Epoch 10/100\n",
            "12/12 [==============================] - 1s 75ms/step - loss: 7.5913e-04\n",
            "Epoch 11/100\n",
            "12/12 [==============================] - 1s 76ms/step - loss: 6.7683e-04\n",
            "Epoch 12/100\n",
            "12/12 [==============================] - 1s 74ms/step - loss: 6.6022e-04\n",
            "Epoch 13/100\n",
            "12/12 [==============================] - 1s 74ms/step - loss: 6.3849e-04\n",
            "Epoch 14/100\n",
            "12/12 [==============================] - 1s 72ms/step - loss: 6.3639e-04\n",
            "Epoch 15/100\n",
            "12/12 [==============================] - 1s 64ms/step - loss: 7.0845e-04\n",
            "Epoch 16/100\n",
            "12/12 [==============================] - 1s 72ms/step - loss: 6.8691e-04\n",
            "Epoch 17/100\n",
            "12/12 [==============================] - 1s 74ms/step - loss: 6.2645e-04\n",
            "Epoch 18/100\n",
            "12/12 [==============================] - 1s 74ms/step - loss: 6.7577e-04\n",
            "Epoch 19/100\n",
            "12/12 [==============================] - 1s 73ms/step - loss: 6.4403e-04\n",
            "Epoch 20/100\n",
            "12/12 [==============================] - 1s 73ms/step - loss: 6.2811e-04\n",
            "Epoch 21/100\n",
            "12/12 [==============================] - 1s 73ms/step - loss: 6.2995e-04\n",
            "Epoch 22/100\n",
            "12/12 [==============================] - 1s 73ms/step - loss: 6.6200e-04\n",
            "Epoch 23/100\n",
            "12/12 [==============================] - 1s 74ms/step - loss: 6.3607e-04\n",
            "Epoch 24/100\n",
            "12/12 [==============================] - 1s 71ms/step - loss: 6.1596e-04\n",
            "Epoch 25/100\n",
            "12/12 [==============================] - 1s 73ms/step - loss: 7.3455e-04\n",
            "Epoch 26/100\n",
            "12/12 [==============================] - 1s 73ms/step - loss: 8.9976e-04\n",
            "Epoch 27/100\n",
            "12/12 [==============================] - 1s 70ms/step - loss: 6.2710e-04\n",
            "Epoch 28/100\n",
            "12/12 [==============================] - 1s 67ms/step - loss: 6.4305e-04\n",
            "Epoch 29/100\n",
            "12/12 [==============================] - 1s 72ms/step - loss: 6.2564e-04\n",
            "Epoch 30/100\n",
            "12/12 [==============================] - 1s 72ms/step - loss: 6.6296e-04\n",
            "Epoch 31/100\n",
            "12/12 [==============================] - 1s 73ms/step - loss: 6.9602e-04\n",
            "Epoch 32/100\n",
            "12/12 [==============================] - 1s 73ms/step - loss: 6.6068e-04\n",
            "Epoch 33/100\n",
            "12/12 [==============================] - 1s 73ms/step - loss: 6.7623e-04\n",
            "Epoch 34/100\n",
            "12/12 [==============================] - 1s 72ms/step - loss: 6.3913e-04\n",
            "Epoch 35/100\n",
            "12/12 [==============================] - 1s 73ms/step - loss: 6.4886e-04\n",
            "Epoch 36/100\n",
            "12/12 [==============================] - 1s 73ms/step - loss: 6.4076e-04\n",
            "Epoch 37/100\n",
            "12/12 [==============================] - 1s 72ms/step - loss: 6.0692e-04\n",
            "Epoch 38/100\n",
            "12/12 [==============================] - 1s 65ms/step - loss: 6.5335e-04\n",
            "Epoch 39/100\n",
            "12/12 [==============================] - 1s 69ms/step - loss: 7.1590e-04\n",
            "Epoch 40/100\n",
            "12/12 [==============================] - 1s 74ms/step - loss: 6.2137e-04\n",
            "Epoch 41/100\n",
            "12/12 [==============================] - 1s 74ms/step - loss: 6.5153e-04\n",
            "Epoch 42/100\n",
            "12/12 [==============================] - 1s 74ms/step - loss: 6.1713e-04\n",
            "Epoch 43/100\n",
            "12/12 [==============================] - 1s 73ms/step - loss: 6.2852e-04\n",
            "Epoch 44/100\n",
            "12/12 [==============================] - 1s 75ms/step - loss: 6.2883e-04\n",
            "Epoch 45/100\n",
            "12/12 [==============================] - 1s 75ms/step - loss: 6.1460e-04\n",
            "Epoch 46/100\n",
            "12/12 [==============================] - 1s 73ms/step - loss: 6.1566e-04\n",
            "Epoch 47/100\n",
            "12/12 [==============================] - 1s 71ms/step - loss: 6.3311e-04\n",
            "Epoch 48/100\n",
            "12/12 [==============================] - 1s 68ms/step - loss: 6.2817e-04\n",
            "Epoch 49/100\n",
            "12/12 [==============================] - 1s 73ms/step - loss: 6.8429e-04\n",
            "Epoch 50/100\n",
            "12/12 [==============================] - 1s 73ms/step - loss: 6.6509e-04\n",
            "Epoch 51/100\n",
            "12/12 [==============================] - 1s 74ms/step - loss: 6.2481e-04\n",
            "Epoch 52/100\n",
            "12/12 [==============================] - 1s 73ms/step - loss: 6.1917e-04\n",
            "Epoch 53/100\n",
            "12/12 [==============================] - 1s 72ms/step - loss: 6.0551e-04\n",
            "Epoch 54/100\n",
            "12/12 [==============================] - 1s 75ms/step - loss: 5.9010e-04\n",
            "Epoch 55/100\n",
            "12/12 [==============================] - 1s 75ms/step - loss: 6.4846e-04\n",
            "Epoch 56/100\n",
            "12/12 [==============================] - 1s 74ms/step - loss: 5.9021e-04\n",
            "Epoch 57/100\n",
            "12/12 [==============================] - 1s 76ms/step - loss: 5.7748e-04\n",
            "Epoch 58/100\n",
            "12/12 [==============================] - 1s 73ms/step - loss: 6.5876e-04\n",
            "Epoch 59/100\n",
            "12/12 [==============================] - 1s 67ms/step - loss: 7.0901e-04\n",
            "Epoch 60/100\n",
            "12/12 [==============================] - 1s 69ms/step - loss: 7.2084e-04\n",
            "Epoch 61/100\n",
            "12/12 [==============================] - 1s 74ms/step - loss: 6.0069e-04\n",
            "Epoch 62/100\n",
            "12/12 [==============================] - 1s 75ms/step - loss: 5.8490e-04\n",
            "Epoch 63/100\n",
            "12/12 [==============================] - 1s 73ms/step - loss: 5.8985e-04\n",
            "Epoch 64/100\n",
            "12/12 [==============================] - 1s 64ms/step - loss: 5.7162e-04\n",
            "Epoch 65/100\n",
            "12/12 [==============================] - 1s 71ms/step - loss: 6.1365e-04\n",
            "Epoch 66/100\n",
            "12/12 [==============================] - 1s 75ms/step - loss: 5.9730e-04\n",
            "Epoch 67/100\n",
            "12/12 [==============================] - 1s 74ms/step - loss: 5.7458e-04\n",
            "Epoch 68/100\n",
            "12/12 [==============================] - 1s 75ms/step - loss: 5.9570e-04\n",
            "Epoch 69/100\n",
            "12/12 [==============================] - 1s 76ms/step - loss: 7.0829e-04\n",
            "Epoch 70/100\n",
            "12/12 [==============================] - 1s 74ms/step - loss: 6.5059e-04\n",
            "Epoch 71/100\n",
            "12/12 [==============================] - 1s 75ms/step - loss: 6.1696e-04\n",
            "Epoch 72/100\n",
            "12/12 [==============================] - 1s 73ms/step - loss: 6.0972e-04\n",
            "Epoch 73/100\n",
            "12/12 [==============================] - 1s 74ms/step - loss: 5.6873e-04\n",
            "Epoch 74/100\n",
            "12/12 [==============================] - 1s 75ms/step - loss: 5.5546e-04\n",
            "Epoch 75/100\n",
            "12/12 [==============================] - 1s 74ms/step - loss: 5.9346e-04\n",
            "Epoch 76/100\n",
            "12/12 [==============================] - 1s 74ms/step - loss: 5.6371e-04\n",
            "Epoch 77/100\n",
            "12/12 [==============================] - 1s 73ms/step - loss: 5.5791e-04\n",
            "Epoch 78/100\n",
            "12/12 [==============================] - 1s 74ms/step - loss: 6.1030e-04\n",
            "Epoch 79/100\n",
            "12/12 [==============================] - 1s 74ms/step - loss: 6.2852e-04\n",
            "Epoch 80/100\n",
            "12/12 [==============================] - 1s 73ms/step - loss: 5.5902e-04\n",
            "Epoch 81/100\n",
            "12/12 [==============================] - 1s 75ms/step - loss: 5.5585e-04\n",
            "Epoch 82/100\n",
            "12/12 [==============================] - 1s 72ms/step - loss: 5.5812e-04\n",
            "Epoch 83/100\n",
            "12/12 [==============================] - 1s 71ms/step - loss: 5.4408e-04\n",
            "Epoch 84/100\n",
            "12/12 [==============================] - 1s 72ms/step - loss: 5.6981e-04\n",
            "Epoch 85/100\n",
            "12/12 [==============================] - 1s 72ms/step - loss: 5.5664e-04\n",
            "Epoch 86/100\n",
            "12/12 [==============================] - 1s 67ms/step - loss: 5.7043e-04\n",
            "Epoch 87/100\n",
            "12/12 [==============================] - 1s 66ms/step - loss: 6.6246e-04\n",
            "Epoch 88/100\n",
            "12/12 [==============================] - 1s 65ms/step - loss: 5.9242e-04\n",
            "Epoch 89/100\n",
            "12/12 [==============================] - 1s 67ms/step - loss: 5.3270e-04\n",
            "Epoch 90/100\n",
            "12/12 [==============================] - 1s 75ms/step - loss: 5.6159e-04\n",
            "Epoch 91/100\n",
            "12/12 [==============================] - 1s 75ms/step - loss: 5.5618e-04\n",
            "Epoch 92/100\n",
            "12/12 [==============================] - 1s 76ms/step - loss: 5.6241e-04\n",
            "Epoch 93/100\n",
            "12/12 [==============================] - 1s 75ms/step - loss: 7.0352e-04\n",
            "Epoch 94/100\n",
            "12/12 [==============================] - 1s 76ms/step - loss: 5.9270e-04\n",
            "Epoch 95/100\n",
            "12/12 [==============================] - 1s 74ms/step - loss: 5.4045e-04\n",
            "Epoch 96/100\n",
            "12/12 [==============================] - 1s 73ms/step - loss: 5.6007e-04\n",
            "Epoch 97/100\n",
            "12/12 [==============================] - 1s 74ms/step - loss: 5.8024e-04\n",
            "Epoch 98/100\n",
            "12/12 [==============================] - 1s 73ms/step - loss: 5.9269e-04\n",
            "Epoch 99/100\n",
            "12/12 [==============================] - 1s 74ms/step - loss: 5.4851e-04\n",
            "Epoch 100/100\n",
            "12/12 [==============================] - 1s 75ms/step - loss: 6.0481e-04\n"
          ]
        },
        {
          "output_type": "execute_result",
          "data": {
            "text/plain": [
              "<keras.callbacks.History at 0x7f930ea53ad0>"
            ]
          },
          "metadata": {},
          "execution_count": 26
        }
      ]
    },
    {
      "cell_type": "code",
      "metadata": {
        "id": "Col4qF_SUqHV"
      },
      "source": [
        "#Memasukkan data split Test data.\n",
        "test_data = scaled_data[training_data_len - 60:, :]\n",
        "x_test = []\n",
        "y_test = dataset[training_data_len:, :]\n",
        "for i in range(60, len(test_data)):\n",
        "  x_test.append(test_data[i-60:i, 0])"
      ],
      "execution_count": null,
      "outputs": []
    },
    {
      "cell_type": "code",
      "metadata": {
        "id": "INbwexCyVjzX"
      },
      "source": [
        "#Mengubah dataframe menjadi numpy array\n",
        "x_test = np.array(x_test)"
      ],
      "execution_count": null,
      "outputs": []
    },
    {
      "cell_type": "code",
      "metadata": {
        "id": "OSGpG54SVsR_",
        "colab": {
          "base_uri": "https://localhost:8080/"
        },
        "outputId": "055a43cd-01f6-4a5b-8dc2-ed5c9edbdba9"
      },
      "source": [
        "#Melakukan reshape data\n",
        "x_test = np.reshape(x_test, (x_test.shape[0], x_test.shape[1], 1))\n",
        "\n",
        "x_test.shape"
      ],
      "execution_count": null,
      "outputs": [
        {
          "output_type": "execute_result",
          "data": {
            "text/plain": [
              "(197, 60, 1)"
            ]
          },
          "metadata": {},
          "execution_count": 20
        }
      ]
    },
    {
      "cell_type": "code",
      "metadata": {
        "id": "7FOmU1C9V8-a"
      },
      "source": [
        "#Setelah model belajar lalu dilakukan predict terhadap x test\n",
        "predictions = model.predict(x_test)\n",
        "predictions = scaler.inverse_transform(predictions)"
      ],
      "execution_count": null,
      "outputs": []
    },
    {
      "cell_type": "code",
      "metadata": {
        "id": "VqOmMOvNWRYZ",
        "colab": {
          "base_uri": "https://localhost:8080/"
        },
        "outputId": "b402f05c-0a6e-4e1b-a729-97b01b1492b0"
      },
      "source": [
        "#Metrics evalusi yaitu Root Means Squarred Error\n",
        "rmse = np.sqrt(np.mean(predictions-y_test)**2)\n",
        "rmse"
      ],
      "execution_count": null,
      "outputs": [
        {
          "output_type": "execute_result",
          "data": {
            "text/plain": [
              "55.236927942576145"
            ]
          },
          "metadata": {},
          "execution_count": 22
        }
      ]
    },
    {
      "cell_type": "code",
      "metadata": {
        "id": "bnJOo5IOWpjf",
        "colab": {
          "base_uri": "https://localhost:8080/",
          "height": 677
        },
        "outputId": "d8b3d280-3441-48a3-f4bd-721ffafb2a4b"
      },
      "source": [
        "#Menampilkan data asli dan data prediksi.\n",
        "valid['Predictions'] = predictions\n",
        "\n",
        "plt.figure(figsize=(16, 9))\n",
        "plt.title('Harga Adj Close Sahamn PT Bank Central Asia Tbk')\n",
        "plt.xlabel('Tanggal', fontsize=18)\n",
        "plt.ylabel('Harga (Rp.)', fontsize=18)\n",
        "plt.plot(train['Adj Close'])\n",
        "plt.plot(valid[['Adj Close', 'Predictions']])\n",
        "plt.legend(['Train', 'Val', 'Predictions'], loc='lower right')\n",
        "plt.show()"
      ],
      "execution_count": null,
      "outputs": [
        {
          "output_type": "stream",
          "name": "stderr",
          "text": [
            "/usr/local/lib/python3.7/dist-packages/ipykernel_launcher.py:1: SettingWithCopyWarning: \n",
            "A value is trying to be set on a copy of a slice from a DataFrame.\n",
            "Try using .loc[row_indexer,col_indexer] = value instead\n",
            "\n",
            "See the caveats in the documentation: https://pandas.pydata.org/pandas-docs/stable/user_guide/indexing.html#returning-a-view-versus-a-copy\n",
            "  \"\"\"Entry point for launching an IPython kernel.\n"
          ]
        },
        {
          "output_type": "display_data",
          "data": {
            "image/png": "[encoded data removed]",
            "text/plain": [
              "<Figure size 1152x648 with 1 Axes>"
            ]
          },
          "metadata": {
            "needs_background": "light"
          }
        }
      ]
    },
    {
      "cell_type": "code",
      "metadata": {
        "id": "sbfC-83voN6w"
      },
      "source": [
        "#Membuat algoritma untuk mendapatkan nilai terakhir prediksi\n",
        "last_60_days = data[-60:].values\n",
        "last_60_days_scaled = scaler.transform(last_60_days)\n",
        "X_test = []\n",
        "X_test.append(last_60_days_scaled)\n",
        "X_test = np.array(X_test)\n",
        "X_test = np.reshape(X_test, (X_test.shape[0], X_test.shape[1], 1))\n",
        "pred_price = model.predict(X_test)\n",
        "pred_price = scaler.inverse_transform(pred_price)"
      ],
      "execution_count": null,
      "outputs": []
    },
    {
      "cell_type": "code",
      "metadata": {
        "id": "0zblymSCWETZ",
        "colab": {
          "base_uri": "https://localhost:8080/"
        },
        "outputId": "64052135-85bd-43bb-b9ca-3a3fa8ff67fc"
      },
      "source": [
        "#Menampilkan hasil prediksi\n",
        "print('Harga Prediksi Hari ini = ', pred_price)\n",
        "print('Harga Kemarin = ', df2['Adj Close'].values)"
      ],
      "execution_count": null,
      "outputs": [
        {
          "output_type": "stream",
          "name": "stdout",
          "text": [
            "Harga Prediksi Hari ini =  [[7286.5547]]\n",
            "Harga Kemarin =  [7275.]\n"
          ]
        }
      ]
    }
  ]
}